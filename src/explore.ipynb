{
    "cells": [
        {
            "cell_type": "code",
            "execution_count": 44,
            "metadata": {},
            "outputs": [],
            "source": [
                "import pandas as pd\n",
                "import numpy as np\n",
                "import matplotlib.pyplot as plt\n",
                "import seaborn as sns\n",
                "#from datautils.analysis import *\n",
                "from sklearn.linear_model import LinearRegression\n",
                "\n",
                "from sklearn.model_selection import train_test_split\n",
                "\n",
                "from statsmodels.api import OLS\n",
                "\n",
                "from sklearn import metrics\n",
                "import statsmodels.api as sm\n",
                "\n",
                "from sklearn.preprcessing import Poynomialalgo #arreglar esto esta mal\n"
            ]
        },
        {
            "cell_type": "code",
            "execution_count": 11,
            "metadata": {},
            "outputs": [],
            "source": [
                "# Example importing the CSV here\n",
                "df = pd.read_csv('https://raw.githubusercontent.com/4GeeksAcademy/linear-regression-project-tutorial/main/medical_insurance_cost.csv')"
            ]
        },
        {
            "cell_type": "code",
            "execution_count": 10,
            "metadata": {},
            "outputs": [
                {
                    "name": "stdout",
                    "output_type": "stream",
                    "text": [
                        "<class 'pandas.core.frame.DataFrame'>\n",
                        "RangeIndex: 1338 entries, 0 to 1337\n",
                        "Data columns (total 7 columns):\n",
                        " #   Column    Non-Null Count  Dtype  \n",
                        "---  ------    --------------  -----  \n",
                        " 0   age       1338 non-null   int64  \n",
                        " 1   sex       1338 non-null   object \n",
                        " 2   bmi       1338 non-null   float64\n",
                        " 3   children  1338 non-null   int64  \n",
                        " 4   smoker    1338 non-null   object \n",
                        " 5   region    1338 non-null   object \n",
                        " 6   charges   1338 non-null   float64\n",
                        "dtypes: float64(2), int64(2), object(3)\n",
                        "memory usage: 73.3+ KB\n"
                    ]
                }
            ],
            "source": [
                "df.info()"
            ]
        },
        {
            "cell_type": "code",
            "execution_count": 12,
            "metadata": {},
            "outputs": [
                {
                    "data": {
                        "text/html": [
                            "<div>\n",
                            "<style scoped>\n",
                            "    .dataframe tbody tr th:only-of-type {\n",
                            "        vertical-align: middle;\n",
                            "    }\n",
                            "\n",
                            "    .dataframe tbody tr th {\n",
                            "        vertical-align: top;\n",
                            "    }\n",
                            "\n",
                            "    .dataframe thead th {\n",
                            "        text-align: right;\n",
                            "    }\n",
                            "</style>\n",
                            "<table border=\"1\" class=\"dataframe\">\n",
                            "  <thead>\n",
                            "    <tr style=\"text-align: right;\">\n",
                            "      <th></th>\n",
                            "      <th>age</th>\n",
                            "      <th>bmi</th>\n",
                            "      <th>children</th>\n",
                            "      <th>charges</th>\n",
                            "    </tr>\n",
                            "  </thead>\n",
                            "  <tbody>\n",
                            "    <tr>\n",
                            "      <th>count</th>\n",
                            "      <td>1338.000000</td>\n",
                            "      <td>1338.000000</td>\n",
                            "      <td>1338.000000</td>\n",
                            "      <td>1338.000000</td>\n",
                            "    </tr>\n",
                            "    <tr>\n",
                            "      <th>mean</th>\n",
                            "      <td>39.207025</td>\n",
                            "      <td>30.663397</td>\n",
                            "      <td>1.094918</td>\n",
                            "      <td>13270.422265</td>\n",
                            "    </tr>\n",
                            "    <tr>\n",
                            "      <th>std</th>\n",
                            "      <td>14.049960</td>\n",
                            "      <td>6.098187</td>\n",
                            "      <td>1.205493</td>\n",
                            "      <td>12110.011237</td>\n",
                            "    </tr>\n",
                            "    <tr>\n",
                            "      <th>min</th>\n",
                            "      <td>18.000000</td>\n",
                            "      <td>15.960000</td>\n",
                            "      <td>0.000000</td>\n",
                            "      <td>1121.873900</td>\n",
                            "    </tr>\n",
                            "    <tr>\n",
                            "      <th>25%</th>\n",
                            "      <td>27.000000</td>\n",
                            "      <td>26.296250</td>\n",
                            "      <td>0.000000</td>\n",
                            "      <td>4740.287150</td>\n",
                            "    </tr>\n",
                            "    <tr>\n",
                            "      <th>50%</th>\n",
                            "      <td>39.000000</td>\n",
                            "      <td>30.400000</td>\n",
                            "      <td>1.000000</td>\n",
                            "      <td>9382.033000</td>\n",
                            "    </tr>\n",
                            "    <tr>\n",
                            "      <th>75%</th>\n",
                            "      <td>51.000000</td>\n",
                            "      <td>34.693750</td>\n",
                            "      <td>2.000000</td>\n",
                            "      <td>16639.912515</td>\n",
                            "    </tr>\n",
                            "    <tr>\n",
                            "      <th>max</th>\n",
                            "      <td>64.000000</td>\n",
                            "      <td>53.130000</td>\n",
                            "      <td>5.000000</td>\n",
                            "      <td>63770.428010</td>\n",
                            "    </tr>\n",
                            "  </tbody>\n",
                            "</table>\n",
                            "</div>"
                        ],
                        "text/plain": [
                            "               age          bmi     children       charges\n",
                            "count  1338.000000  1338.000000  1338.000000   1338.000000\n",
                            "mean     39.207025    30.663397     1.094918  13270.422265\n",
                            "std      14.049960     6.098187     1.205493  12110.011237\n",
                            "min      18.000000    15.960000     0.000000   1121.873900\n",
                            "25%      27.000000    26.296250     0.000000   4740.287150\n",
                            "50%      39.000000    30.400000     1.000000   9382.033000\n",
                            "75%      51.000000    34.693750     2.000000  16639.912515\n",
                            "max      64.000000    53.130000     5.000000  63770.428010"
                        ]
                    },
                    "execution_count": 12,
                    "metadata": {},
                    "output_type": "execute_result"
                }
            ],
            "source": [
                "df.describe()"
            ]
        },
        {
            "cell_type": "code",
            "execution_count": 16,
            "metadata": {},
            "outputs": [
                {
                    "data": {
                        "text/html": [
                            "<div>\n",
                            "<style scoped>\n",
                            "    .dataframe tbody tr th:only-of-type {\n",
                            "        vertical-align: middle;\n",
                            "    }\n",
                            "\n",
                            "    .dataframe tbody tr th {\n",
                            "        vertical-align: top;\n",
                            "    }\n",
                            "\n",
                            "    .dataframe thead th {\n",
                            "        text-align: right;\n",
                            "    }\n",
                            "</style>\n",
                            "<table border=\"1\" class=\"dataframe\">\n",
                            "  <thead>\n",
                            "    <tr style=\"text-align: right;\">\n",
                            "      <th></th>\n",
                            "      <th>sex</th>\n",
                            "      <th>smoker</th>\n",
                            "      <th>region</th>\n",
                            "    </tr>\n",
                            "  </thead>\n",
                            "  <tbody>\n",
                            "    <tr>\n",
                            "      <th>count</th>\n",
                            "      <td>1338</td>\n",
                            "      <td>1338</td>\n",
                            "      <td>1338</td>\n",
                            "    </tr>\n",
                            "    <tr>\n",
                            "      <th>unique</th>\n",
                            "      <td>2</td>\n",
                            "      <td>2</td>\n",
                            "      <td>4</td>\n",
                            "    </tr>\n",
                            "    <tr>\n",
                            "      <th>top</th>\n",
                            "      <td>male</td>\n",
                            "      <td>no</td>\n",
                            "      <td>southeast</td>\n",
                            "    </tr>\n",
                            "    <tr>\n",
                            "      <th>freq</th>\n",
                            "      <td>676</td>\n",
                            "      <td>1064</td>\n",
                            "      <td>364</td>\n",
                            "    </tr>\n",
                            "  </tbody>\n",
                            "</table>\n",
                            "</div>"
                        ],
                        "text/plain": [
                            "         sex smoker     region\n",
                            "count   1338   1338       1338\n",
                            "unique     2      2          4\n",
                            "top     male     no  southeast\n",
                            "freq     676   1064        364"
                        ]
                    },
                    "execution_count": 16,
                    "metadata": {},
                    "output_type": "execute_result"
                }
            ],
            "source": [
                "df.describe(include='O') #no hay categorias extrañas, la mayoria son no fumadores "
            ]
        },
        {
            "cell_type": "code",
            "execution_count": 13,
            "metadata": {},
            "outputs": [
                {
                    "data": {
                        "text/html": [
                            "<div>\n",
                            "<style scoped>\n",
                            "    .dataframe tbody tr th:only-of-type {\n",
                            "        vertical-align: middle;\n",
                            "    }\n",
                            "\n",
                            "    .dataframe tbody tr th {\n",
                            "        vertical-align: top;\n",
                            "    }\n",
                            "\n",
                            "    .dataframe thead th {\n",
                            "        text-align: right;\n",
                            "    }\n",
                            "</style>\n",
                            "<table border=\"1\" class=\"dataframe\">\n",
                            "  <thead>\n",
                            "    <tr style=\"text-align: right;\">\n",
                            "      <th></th>\n",
                            "      <th>age</th>\n",
                            "      <th>sex</th>\n",
                            "      <th>bmi</th>\n",
                            "      <th>children</th>\n",
                            "      <th>smoker</th>\n",
                            "      <th>region</th>\n",
                            "      <th>charges</th>\n",
                            "    </tr>\n",
                            "  </thead>\n",
                            "  <tbody>\n",
                            "    <tr>\n",
                            "      <th>389</th>\n",
                            "      <td>24</td>\n",
                            "      <td>female</td>\n",
                            "      <td>30.210</td>\n",
                            "      <td>3</td>\n",
                            "      <td>no</td>\n",
                            "      <td>northwest</td>\n",
                            "      <td>4618.07990</td>\n",
                            "    </tr>\n",
                            "    <tr>\n",
                            "      <th>2</th>\n",
                            "      <td>28</td>\n",
                            "      <td>male</td>\n",
                            "      <td>33.000</td>\n",
                            "      <td>3</td>\n",
                            "      <td>no</td>\n",
                            "      <td>southeast</td>\n",
                            "      <td>4449.46200</td>\n",
                            "    </tr>\n",
                            "    <tr>\n",
                            "      <th>559</th>\n",
                            "      <td>19</td>\n",
                            "      <td>male</td>\n",
                            "      <td>35.530</td>\n",
                            "      <td>0</td>\n",
                            "      <td>no</td>\n",
                            "      <td>northwest</td>\n",
                            "      <td>1646.42970</td>\n",
                            "    </tr>\n",
                            "    <tr>\n",
                            "      <th>225</th>\n",
                            "      <td>55</td>\n",
                            "      <td>male</td>\n",
                            "      <td>33.880</td>\n",
                            "      <td>3</td>\n",
                            "      <td>no</td>\n",
                            "      <td>southeast</td>\n",
                            "      <td>11987.16820</td>\n",
                            "    </tr>\n",
                            "    <tr>\n",
                            "      <th>1020</th>\n",
                            "      <td>51</td>\n",
                            "      <td>male</td>\n",
                            "      <td>37.000</td>\n",
                            "      <td>0</td>\n",
                            "      <td>no</td>\n",
                            "      <td>southwest</td>\n",
                            "      <td>8798.59300</td>\n",
                            "    </tr>\n",
                            "    <tr>\n",
                            "      <th>610</th>\n",
                            "      <td>47</td>\n",
                            "      <td>female</td>\n",
                            "      <td>29.370</td>\n",
                            "      <td>1</td>\n",
                            "      <td>no</td>\n",
                            "      <td>southeast</td>\n",
                            "      <td>8547.69130</td>\n",
                            "    </tr>\n",
                            "    <tr>\n",
                            "      <th>600</th>\n",
                            "      <td>18</td>\n",
                            "      <td>female</td>\n",
                            "      <td>39.160</td>\n",
                            "      <td>0</td>\n",
                            "      <td>no</td>\n",
                            "      <td>southeast</td>\n",
                            "      <td>1633.04440</td>\n",
                            "    </tr>\n",
                            "    <tr>\n",
                            "      <th>968</th>\n",
                            "      <td>21</td>\n",
                            "      <td>male</td>\n",
                            "      <td>25.745</td>\n",
                            "      <td>2</td>\n",
                            "      <td>no</td>\n",
                            "      <td>northeast</td>\n",
                            "      <td>3279.86855</td>\n",
                            "    </tr>\n",
                            "    <tr>\n",
                            "      <th>310</th>\n",
                            "      <td>50</td>\n",
                            "      <td>male</td>\n",
                            "      <td>26.600</td>\n",
                            "      <td>0</td>\n",
                            "      <td>no</td>\n",
                            "      <td>southwest</td>\n",
                            "      <td>8444.47400</td>\n",
                            "    </tr>\n",
                            "    <tr>\n",
                            "      <th>911</th>\n",
                            "      <td>18</td>\n",
                            "      <td>male</td>\n",
                            "      <td>31.730</td>\n",
                            "      <td>0</td>\n",
                            "      <td>yes</td>\n",
                            "      <td>northeast</td>\n",
                            "      <td>33732.68670</td>\n",
                            "    </tr>\n",
                            "  </tbody>\n",
                            "</table>\n",
                            "</div>"
                        ],
                        "text/plain": [
                            "      age     sex     bmi  children smoker     region      charges\n",
                            "389    24  female  30.210         3     no  northwest   4618.07990\n",
                            "2      28    male  33.000         3     no  southeast   4449.46200\n",
                            "559    19    male  35.530         0     no  northwest   1646.42970\n",
                            "225    55    male  33.880         3     no  southeast  11987.16820\n",
                            "1020   51    male  37.000         0     no  southwest   8798.59300\n",
                            "610    47  female  29.370         1     no  southeast   8547.69130\n",
                            "600    18  female  39.160         0     no  southeast   1633.04440\n",
                            "968    21    male  25.745         2     no  northeast   3279.86855\n",
                            "310    50    male  26.600         0     no  southwest   8444.47400\n",
                            "911    18    male  31.730         0    yes  northeast  33732.68670"
                        ]
                    },
                    "execution_count": 13,
                    "metadata": {},
                    "output_type": "execute_result"
                }
            ],
            "source": [
                "df.sample(10)"
            ]
        },
        {
            "cell_type": "code",
            "execution_count": null,
            "metadata": {},
            "outputs": [],
            "source": [
                "#las vars q tenemos para predecir son edad, sexo, bmi , cildren esto esta en l as instrucciones"
            ]
        },
        {
            "cell_type": "code",
            "execution_count": null,
            "metadata": {},
            "outputs": [],
            "source": [
                "#vamos a hacer regresion lineal, buscamos variables relacionadas entre si, tenemos q elegir q regresor poner\n",
                "#tenemos q hacer la matriz de correlacion (de person) para ver las variables lineales -> df.corr()"
            ]
        },
        {
            "cell_type": "code",
            "execution_count": 17,
            "metadata": {},
            "outputs": [
                {
                    "data": {
                        "image/png": "[encoded data removed]",
                        "text/plain": [
                            "<Figure size 432x288 with 4 Axes>"
                        ]
                    },
                    "metadata": {
                        "needs_background": "light"
                    },
                    "output_type": "display_data"
                }
            ],
            "source": [
                "df.hist()\n",
                "plt.show()"
            ]
        },
        {
            "cell_type": "code",
            "execution_count": 22,
            "metadata": {},
            "outputs": [],
            "source": [
                "df.duplicated().any() # hay duplicados los tengo q sacar !\n",
                "#vemos cuales son las vars duplicadas\n",
                "df[df.duplicated(keep=False)]\n",
                "\n",
                "#las borramos ?\n",
                "df_sin_duplicados = df.drop_duplicates()\n"
            ]
        },
        {
            "cell_type": "code",
            "execution_count": 23,
            "metadata": {},
            "outputs": [
                {
                    "data": {
                        "text/plain": [
                            "<AxesSubplot:>"
                        ]
                    },
                    "execution_count": 23,
                    "metadata": {},
                    "output_type": "execute_result"
                },
                {
                    "data": {
                        "image/png": "[encoded data removed]",
                        "text/plain": [
                            "<Figure size 432x288 with 2 Axes>"
                        ]
                    },
                    "metadata": {
                        "needs_background": "light"
                    },
                    "output_type": "display_data"
                }
            ],
            "source": [
                "#lo metemos en un mapa de calor a la matriz de correlacion, color claro correlacion alta, no hay correlacion negativa\n",
                "sns.heatmap(df_sin_duplicados.corr(),annot=True)"
            ]
        },
        {
            "cell_type": "code",
            "execution_count": 24,
            "metadata": {},
            "outputs": [
                {
                    "data": {
                        "text/html": [
                            "<div>\n",
                            "<style scoped>\n",
                            "    .dataframe tbody tr th:only-of-type {\n",
                            "        vertical-align: middle;\n",
                            "    }\n",
                            "\n",
                            "    .dataframe tbody tr th {\n",
                            "        vertical-align: top;\n",
                            "    }\n",
                            "\n",
                            "    .dataframe thead th {\n",
                            "        text-align: right;\n",
                            "    }\n",
                            "</style>\n",
                            "<table border=\"1\" class=\"dataframe\">\n",
                            "  <thead>\n",
                            "    <tr style=\"text-align: right;\">\n",
                            "      <th></th>\n",
                            "      <th>age</th>\n",
                            "      <th>bmi</th>\n",
                            "      <th>children</th>\n",
                            "      <th>charges</th>\n",
                            "      <th>sex_male</th>\n",
                            "      <th>smoker_yes</th>\n",
                            "      <th>region_northwest</th>\n",
                            "      <th>region_southeast</th>\n",
                            "      <th>region_southwest</th>\n",
                            "    </tr>\n",
                            "  </thead>\n",
                            "  <tbody>\n",
                            "    <tr>\n",
                            "      <th>0</th>\n",
                            "      <td>19</td>\n",
                            "      <td>27.900</td>\n",
                            "      <td>0</td>\n",
                            "      <td>16884.92400</td>\n",
                            "      <td>0</td>\n",
                            "      <td>1</td>\n",
                            "      <td>0</td>\n",
                            "      <td>0</td>\n",
                            "      <td>1</td>\n",
                            "    </tr>\n",
                            "    <tr>\n",
                            "      <th>1</th>\n",
                            "      <td>18</td>\n",
                            "      <td>33.770</td>\n",
                            "      <td>1</td>\n",
                            "      <td>1725.55230</td>\n",
                            "      <td>1</td>\n",
                            "      <td>0</td>\n",
                            "      <td>0</td>\n",
                            "      <td>1</td>\n",
                            "      <td>0</td>\n",
                            "    </tr>\n",
                            "    <tr>\n",
                            "      <th>2</th>\n",
                            "      <td>28</td>\n",
                            "      <td>33.000</td>\n",
                            "      <td>3</td>\n",
                            "      <td>4449.46200</td>\n",
                            "      <td>1</td>\n",
                            "      <td>0</td>\n",
                            "      <td>0</td>\n",
                            "      <td>1</td>\n",
                            "      <td>0</td>\n",
                            "    </tr>\n",
                            "    <tr>\n",
                            "      <th>3</th>\n",
                            "      <td>33</td>\n",
                            "      <td>22.705</td>\n",
                            "      <td>0</td>\n",
                            "      <td>21984.47061</td>\n",
                            "      <td>1</td>\n",
                            "      <td>0</td>\n",
                            "      <td>1</td>\n",
                            "      <td>0</td>\n",
                            "      <td>0</td>\n",
                            "    </tr>\n",
                            "    <tr>\n",
                            "      <th>4</th>\n",
                            "      <td>32</td>\n",
                            "      <td>28.880</td>\n",
                            "      <td>0</td>\n",
                            "      <td>3866.85520</td>\n",
                            "      <td>1</td>\n",
                            "      <td>0</td>\n",
                            "      <td>1</td>\n",
                            "      <td>0</td>\n",
                            "      <td>0</td>\n",
                            "    </tr>\n",
                            "    <tr>\n",
                            "      <th>...</th>\n",
                            "      <td>...</td>\n",
                            "      <td>...</td>\n",
                            "      <td>...</td>\n",
                            "      <td>...</td>\n",
                            "      <td>...</td>\n",
                            "      <td>...</td>\n",
                            "      <td>...</td>\n",
                            "      <td>...</td>\n",
                            "      <td>...</td>\n",
                            "    </tr>\n",
                            "    <tr>\n",
                            "      <th>1333</th>\n",
                            "      <td>50</td>\n",
                            "      <td>30.970</td>\n",
                            "      <td>3</td>\n",
                            "      <td>10600.54830</td>\n",
                            "      <td>1</td>\n",
                            "      <td>0</td>\n",
                            "      <td>1</td>\n",
                            "      <td>0</td>\n",
                            "      <td>0</td>\n",
                            "    </tr>\n",
                            "    <tr>\n",
                            "      <th>1334</th>\n",
                            "      <td>18</td>\n",
                            "      <td>31.920</td>\n",
                            "      <td>0</td>\n",
                            "      <td>2205.98080</td>\n",
                            "      <td>0</td>\n",
                            "      <td>0</td>\n",
                            "      <td>0</td>\n",
                            "      <td>0</td>\n",
                            "      <td>0</td>\n",
                            "    </tr>\n",
                            "    <tr>\n",
                            "      <th>1335</th>\n",
                            "      <td>18</td>\n",
                            "      <td>36.850</td>\n",
                            "      <td>0</td>\n",
                            "      <td>1629.83350</td>\n",
                            "      <td>0</td>\n",
                            "      <td>0</td>\n",
                            "      <td>0</td>\n",
                            "      <td>1</td>\n",
                            "      <td>0</td>\n",
                            "    </tr>\n",
                            "    <tr>\n",
                            "      <th>1336</th>\n",
                            "      <td>21</td>\n",
                            "      <td>25.800</td>\n",
                            "      <td>0</td>\n",
                            "      <td>2007.94500</td>\n",
                            "      <td>0</td>\n",
                            "      <td>0</td>\n",
                            "      <td>0</td>\n",
                            "      <td>0</td>\n",
                            "      <td>1</td>\n",
                            "    </tr>\n",
                            "    <tr>\n",
                            "      <th>1337</th>\n",
                            "      <td>61</td>\n",
                            "      <td>29.070</td>\n",
                            "      <td>0</td>\n",
                            "      <td>29141.36030</td>\n",
                            "      <td>0</td>\n",
                            "      <td>1</td>\n",
                            "      <td>1</td>\n",
                            "      <td>0</td>\n",
                            "      <td>0</td>\n",
                            "    </tr>\n",
                            "  </tbody>\n",
                            "</table>\n",
                            "<p>1337 rows × 9 columns</p>\n",
                            "</div>"
                        ],
                        "text/plain": [
                            "      age     bmi  children      charges  sex_male  smoker_yes  \\\n",
                            "0      19  27.900         0  16884.92400         0           1   \n",
                            "1      18  33.770         1   1725.55230         1           0   \n",
                            "2      28  33.000         3   4449.46200         1           0   \n",
                            "3      33  22.705         0  21984.47061         1           0   \n",
                            "4      32  28.880         0   3866.85520         1           0   \n",
                            "...   ...     ...       ...          ...       ...         ...   \n",
                            "1333   50  30.970         3  10600.54830         1           0   \n",
                            "1334   18  31.920         0   2205.98080         0           0   \n",
                            "1335   18  36.850         0   1629.83350         0           0   \n",
                            "1336   21  25.800         0   2007.94500         0           0   \n",
                            "1337   61  29.070         0  29141.36030         0           1   \n",
                            "\n",
                            "      region_northwest  region_southeast  region_southwest  \n",
                            "0                    0                 0                 1  \n",
                            "1                    0                 1                 0  \n",
                            "2                    0                 1                 0  \n",
                            "3                    1                 0                 0  \n",
                            "4                    1                 0                 0  \n",
                            "...                ...               ...               ...  \n",
                            "1333                 1                 0                 0  \n",
                            "1334                 0                 0                 0  \n",
                            "1335                 0                 1                 0  \n",
                            "1336                 0                 0                 1  \n",
                            "1337                 1                 0                 0  \n",
                            "\n",
                            "[1337 rows x 9 columns]"
                        ]
                    },
                    "execution_count": 24,
                    "metadata": {},
                    "output_type": "execute_result"
                }
            ],
            "source": [
                "df_sin_duplicados=pd.get_dummies(df_sin_duplicados, columns=['sex','smoker','region'], drop_first=True)"
            ]
        },
        {
            "cell_type": "code",
            "execution_count": 35,
            "metadata": {},
            "outputs": [],
            "source": [
                "x = df_sin_duplicados.drop('charges',axis=1) #elimina esta columna, el x son todas las columnas menos esta\n",
                "y = df_sin_duplicados['charges']"
            ]
        },
        {
            "cell_type": "code",
            "execution_count": 32,
            "metadata": {},
            "outputs": [],
            "source": [
                "#estamos listos para hacer la regresion, tengo q tener esto en los import\n",
                "#from sklearn.linear_model import LinearRegression\n",
                "#from sklearn.model_selection import train_test_split\n",
                "\n",
                "x_train, x_test, y_train, y_test = train_test_split(x, y, test_size=0.25, random_state=43)"
            ]
        },
        {
            "cell_type": "code",
            "execution_count": 43,
            "metadata": {},
            "outputs": [
                {
                    "ename": "ValueError",
                    "evalue": "could not convert string to float: 'female'",
                    "output_type": "error",
                    "traceback": [
                        "\u001b[0;31m---------------------------------------------------------------------------\u001b[0m",
                        "\u001b[0;31mValueError\u001b[0m                                Traceback (most recent call last)",
                        "\u001b[1;32m/workspace/Predicting-medical-cost/src/explore.ipynb Cell 17'\u001b[0m in \u001b[0;36m<cell line: 3>\u001b[0;34m()\u001b[0m\n\u001b[1;32m      <a href='vscode-notebook-cell://andreajit-predictingmed-fravs1evp9c.ws-us51.gitpod.io/workspace/Predicting-medical-cost/src/explore.ipynb#ch0000019vscode-remote?line=0'>1</a>\u001b[0m \u001b[39m#entreno el modelo !regresion_lineal = modelo\u001b[39;00m\n\u001b[1;32m      <a href='vscode-notebook-cell://andreajit-predictingmed-fravs1evp9c.ws-us51.gitpod.io/workspace/Predicting-medical-cost/src/explore.ipynb#ch0000019vscode-remote?line=1'>2</a>\u001b[0m regresion_lineal \u001b[39m=\u001b[39m LinearRegression() \u001b[39m#esto lo mando con los datos por default, solo cargo el modelo\u001b[39;00m\n\u001b[0;32m----> <a href='vscode-notebook-cell://andreajit-predictingmed-fravs1evp9c.ws-us51.gitpod.io/workspace/Predicting-medical-cost/src/explore.ipynb#ch0000019vscode-remote?line=2'>3</a>\u001b[0m regresion_lineal\u001b[39m.\u001b[39;49mfit(x_train,y_test) \u001b[39m#le paso los datos q saque para entrenar \u001b[39;00m\n\u001b[1;32m      <a href='vscode-notebook-cell://andreajit-predictingmed-fravs1evp9c.ws-us51.gitpod.io/workspace/Predicting-medical-cost/src/explore.ipynb#ch0000019vscode-remote?line=4'>5</a>\u001b[0m \u001b[39mprint\u001b[39m(\u001b[39m'\u001b[39m\u001b[39mIntercept : \u001b[39m\u001b[39m'\u001b[39m,regresion_lineal\u001b[39m.\u001b[39mintercept_) \u001b[39m#impromo los datos intercept\u001b[39;00m\n\u001b[1;32m      <a href='vscode-notebook-cell://andreajit-predictingmed-fravs1evp9c.ws-us51.gitpod.io/workspace/Predicting-medical-cost/src/explore.ipynb#ch0000019vscode-remote?line=5'>6</a>\u001b[0m \u001b[39mprint\u001b[39m(\u001b[39m'\u001b[39m\u001b[39mCoeficient : \u001b[39m\u001b[39m'\u001b[39m,regresion_lineal\u001b[39m.\u001b[39mcoef_)\n",
                        "File \u001b[0;32m~/.pyenv/versions/3.8.13/lib/python3.8/site-packages/sklearn/linear_model/_base.py:684\u001b[0m, in \u001b[0;36mLinearRegression.fit\u001b[0;34m(self, X, y, sample_weight)\u001b[0m\n\u001b[1;32m    680\u001b[0m n_jobs_ \u001b[39m=\u001b[39m \u001b[39mself\u001b[39m\u001b[39m.\u001b[39mn_jobs\n\u001b[1;32m    682\u001b[0m accept_sparse \u001b[39m=\u001b[39m \u001b[39mFalse\u001b[39;00m \u001b[39mif\u001b[39;00m \u001b[39mself\u001b[39m\u001b[39m.\u001b[39mpositive \u001b[39melse\u001b[39;00m [\u001b[39m\"\u001b[39m\u001b[39mcsr\u001b[39m\u001b[39m\"\u001b[39m, \u001b[39m\"\u001b[39m\u001b[39mcsc\u001b[39m\u001b[39m\"\u001b[39m, \u001b[39m\"\u001b[39m\u001b[39mcoo\u001b[39m\u001b[39m\"\u001b[39m]\n\u001b[0;32m--> 684\u001b[0m X, y \u001b[39m=\u001b[39m \u001b[39mself\u001b[39;49m\u001b[39m.\u001b[39;49m_validate_data(\n\u001b[1;32m    685\u001b[0m     X, y, accept_sparse\u001b[39m=\u001b[39;49maccept_sparse, y_numeric\u001b[39m=\u001b[39;49m\u001b[39mTrue\u001b[39;49;00m, multi_output\u001b[39m=\u001b[39;49m\u001b[39mTrue\u001b[39;49;00m\n\u001b[1;32m    686\u001b[0m )\n\u001b[1;32m    688\u001b[0m sample_weight \u001b[39m=\u001b[39m _check_sample_weight(\n\u001b[1;32m    689\u001b[0m     sample_weight, X, dtype\u001b[39m=\u001b[39mX\u001b[39m.\u001b[39mdtype, only_non_negative\u001b[39m=\u001b[39m\u001b[39mTrue\u001b[39;00m\n\u001b[1;32m    690\u001b[0m )\n\u001b[1;32m    692\u001b[0m X, y, X_offset, y_offset, X_scale \u001b[39m=\u001b[39m _preprocess_data(\n\u001b[1;32m    693\u001b[0m     X,\n\u001b[1;32m    694\u001b[0m     y,\n\u001b[0;32m   (...)\u001b[0m\n\u001b[1;32m    698\u001b[0m     sample_weight\u001b[39m=\u001b[39msample_weight,\n\u001b[1;32m    699\u001b[0m )\n",
                        "File \u001b[0;32m~/.pyenv/versions/3.8.13/lib/python3.8/site-packages/sklearn/base.py:596\u001b[0m, in \u001b[0;36mBaseEstimator._validate_data\u001b[0;34m(self, X, y, reset, validate_separately, **check_params)\u001b[0m\n\u001b[1;32m    594\u001b[0m         y \u001b[39m=\u001b[39m check_array(y, input_name\u001b[39m=\u001b[39m\u001b[39m\"\u001b[39m\u001b[39my\u001b[39m\u001b[39m\"\u001b[39m, \u001b[39m*\u001b[39m\u001b[39m*\u001b[39mcheck_y_params)\n\u001b[1;32m    595\u001b[0m     \u001b[39melse\u001b[39;00m:\n\u001b[0;32m--> 596\u001b[0m         X, y \u001b[39m=\u001b[39m check_X_y(X, y, \u001b[39m*\u001b[39;49m\u001b[39m*\u001b[39;49mcheck_params)\n\u001b[1;32m    597\u001b[0m     out \u001b[39m=\u001b[39m X, y\n\u001b[1;32m    599\u001b[0m \u001b[39mif\u001b[39;00m \u001b[39mnot\u001b[39;00m no_val_X \u001b[39mand\u001b[39;00m check_params\u001b[39m.\u001b[39mget(\u001b[39m\"\u001b[39m\u001b[39mensure_2d\u001b[39m\u001b[39m\"\u001b[39m, \u001b[39mTrue\u001b[39;00m):\n",
                        "File \u001b[0;32m~/.pyenv/versions/3.8.13/lib/python3.8/site-packages/sklearn/utils/validation.py:1074\u001b[0m, in \u001b[0;36mcheck_X_y\u001b[0;34m(X, y, accept_sparse, accept_large_sparse, dtype, order, copy, force_all_finite, ensure_2d, allow_nd, multi_output, ensure_min_samples, ensure_min_features, y_numeric, estimator)\u001b[0m\n\u001b[1;32m   1069\u001b[0m         estimator_name \u001b[39m=\u001b[39m _check_estimator_name(estimator)\n\u001b[1;32m   1070\u001b[0m     \u001b[39mraise\u001b[39;00m \u001b[39mValueError\u001b[39;00m(\n\u001b[1;32m   1071\u001b[0m         \u001b[39mf\u001b[39m\u001b[39m\"\u001b[39m\u001b[39m{\u001b[39;00mestimator_name\u001b[39m}\u001b[39;00m\u001b[39m requires y to be passed, but the target y is None\u001b[39m\u001b[39m\"\u001b[39m\n\u001b[1;32m   1072\u001b[0m     )\n\u001b[0;32m-> 1074\u001b[0m X \u001b[39m=\u001b[39m check_array(\n\u001b[1;32m   1075\u001b[0m     X,\n\u001b[1;32m   1076\u001b[0m     accept_sparse\u001b[39m=\u001b[39;49maccept_sparse,\n\u001b[1;32m   1077\u001b[0m     accept_large_sparse\u001b[39m=\u001b[39;49maccept_large_sparse,\n\u001b[1;32m   1078\u001b[0m     dtype\u001b[39m=\u001b[39;49mdtype,\n\u001b[1;32m   1079\u001b[0m     order\u001b[39m=\u001b[39;49morder,\n\u001b[1;32m   1080\u001b[0m     copy\u001b[39m=\u001b[39;49mcopy,\n\u001b[1;32m   1081\u001b[0m     force_all_finite\u001b[39m=\u001b[39;49mforce_all_finite,\n\u001b[1;32m   1082\u001b[0m     ensure_2d\u001b[39m=\u001b[39;49mensure_2d,\n\u001b[1;32m   1083\u001b[0m     allow_nd\u001b[39m=\u001b[39;49mallow_nd,\n\u001b[1;32m   1084\u001b[0m     ensure_min_samples\u001b[39m=\u001b[39;49mensure_min_samples,\n\u001b[1;32m   1085\u001b[0m     ensure_min_features\u001b[39m=\u001b[39;49mensure_min_features,\n\u001b[1;32m   1086\u001b[0m     estimator\u001b[39m=\u001b[39;49mestimator,\n\u001b[1;32m   1087\u001b[0m     input_name\u001b[39m=\u001b[39;49m\u001b[39m\"\u001b[39;49m\u001b[39mX\u001b[39;49m\u001b[39m\"\u001b[39;49m,\n\u001b[1;32m   1088\u001b[0m )\n\u001b[1;32m   1090\u001b[0m y \u001b[39m=\u001b[39m _check_y(y, multi_output\u001b[39m=\u001b[39mmulti_output, y_numeric\u001b[39m=\u001b[39my_numeric, estimator\u001b[39m=\u001b[39mestimator)\n\u001b[1;32m   1092\u001b[0m check_consistent_length(X, y)\n",
                        "File \u001b[0;32m~/.pyenv/versions/3.8.13/lib/python3.8/site-packages/sklearn/utils/validation.py:856\u001b[0m, in \u001b[0;36mcheck_array\u001b[0;34m(array, accept_sparse, accept_large_sparse, dtype, order, copy, force_all_finite, ensure_2d, allow_nd, ensure_min_samples, ensure_min_features, estimator, input_name)\u001b[0m\n\u001b[1;32m    854\u001b[0m         array \u001b[39m=\u001b[39m array\u001b[39m.\u001b[39mastype(dtype, casting\u001b[39m=\u001b[39m\u001b[39m\"\u001b[39m\u001b[39munsafe\u001b[39m\u001b[39m\"\u001b[39m, copy\u001b[39m=\u001b[39m\u001b[39mFalse\u001b[39;00m)\n\u001b[1;32m    855\u001b[0m     \u001b[39melse\u001b[39;00m:\n\u001b[0;32m--> 856\u001b[0m         array \u001b[39m=\u001b[39m np\u001b[39m.\u001b[39;49masarray(array, order\u001b[39m=\u001b[39;49morder, dtype\u001b[39m=\u001b[39;49mdtype)\n\u001b[1;32m    857\u001b[0m \u001b[39mexcept\u001b[39;00m ComplexWarning \u001b[39mas\u001b[39;00m complex_warning:\n\u001b[1;32m    858\u001b[0m     \u001b[39mraise\u001b[39;00m \u001b[39mValueError\u001b[39;00m(\n\u001b[1;32m    859\u001b[0m         \u001b[39m\"\u001b[39m\u001b[39mComplex data not supported\u001b[39m\u001b[39m\\n\u001b[39;00m\u001b[39m{}\u001b[39;00m\u001b[39m\\n\u001b[39;00m\u001b[39m\"\u001b[39m\u001b[39m.\u001b[39mformat(array)\n\u001b[1;32m    860\u001b[0m     ) \u001b[39mfrom\u001b[39;00m \u001b[39mcomplex_warning\u001b[39;00m\n",
                        "File \u001b[0;32m~/.pyenv/versions/3.8.13/lib/python3.8/site-packages/pandas/core/generic.py:2064\u001b[0m, in \u001b[0;36mNDFrame.__array__\u001b[0;34m(self, dtype)\u001b[0m\n\u001b[1;32m   2063\u001b[0m \u001b[39mdef\u001b[39;00m \u001b[39m__array__\u001b[39m(\u001b[39mself\u001b[39m, dtype: npt\u001b[39m.\u001b[39mDTypeLike \u001b[39m|\u001b[39m \u001b[39mNone\u001b[39;00m \u001b[39m=\u001b[39m \u001b[39mNone\u001b[39;00m) \u001b[39m-\u001b[39m\u001b[39m>\u001b[39m np\u001b[39m.\u001b[39mndarray:\n\u001b[0;32m-> 2064\u001b[0m     \u001b[39mreturn\u001b[39;00m np\u001b[39m.\u001b[39;49masarray(\u001b[39mself\u001b[39;49m\u001b[39m.\u001b[39;49m_values, dtype\u001b[39m=\u001b[39;49mdtype)\n",
                        "\u001b[0;31mValueError\u001b[0m: could not convert string to float: 'female'"
                    ]
                }
            ],
            "source": [
                "#entreno el modelo !regresion_lineal = modelo\n",
                "regresion_lineal = LinearRegression() #esto lo mando con los datos por default, solo cargo el modelo\n",
                "regresion_lineal.fit(x_train,y_test) #le paso los datos q saque para entrenar \n",
                "\n",
                "print('Intercept : ',regresion_lineal.intercept_) #impromo los datos intercept\n",
                "print('Variables : ',x_train.columns)\n",
                "print('Coeficient : ',regresion_lineal.coef_)\n"
            ]
        },
        {
            "cell_type": "code",
            "execution_count": 41,
            "metadata": {},
            "outputs": [
                {
                    "ename": "ValueError",
                    "evalue": "Pandas data cast to numpy dtype of object. Check input data with np.asarray(data).",
                    "output_type": "error",
                    "traceback": [
                        "\u001b[0;31m---------------------------------------------------------------------------\u001b[0m",
                        "\u001b[0;31mValueError\u001b[0m                                Traceback (most recent call last)",
                        "\u001b[1;32m/workspace/Predicting-medical-cost/src/explore.ipynb Cell 18'\u001b[0m in \u001b[0;36m<cell line: 2>\u001b[0;34m()\u001b[0m\n\u001b[1;32m      <a href='vscode-notebook-cell://andreajit-predictingmed-fravs1evp9c.ws-us51.gitpod.io/workspace/Predicting-medical-cost/src/explore.ipynb#ch0000020vscode-remote?line=0'>1</a>\u001b[0m \u001b[39m#ahora imprimimos los errores\u001b[39;00m\n\u001b[0;32m----> <a href='vscode-notebook-cell://andreajit-predictingmed-fravs1evp9c.ws-us51.gitpod.io/workspace/Predicting-medical-cost/src/explore.ipynb#ch0000020vscode-remote?line=1'>2</a>\u001b[0m modelo2 \u001b[39m=\u001b[39m sm\u001b[39m.\u001b[39;49mOLS(y_train,x_train)\n\u001b[1;32m      <a href='vscode-notebook-cell://andreajit-predictingmed-fravs1evp9c.ws-us51.gitpod.io/workspace/Predicting-medical-cost/src/explore.ipynb#ch0000020vscode-remote?line=2'>3</a>\u001b[0m results \u001b[39m=\u001b[39m modelo2\u001b[39m.\u001b[39mfit()\n\u001b[1;32m      <a href='vscode-notebook-cell://andreajit-predictingmed-fravs1evp9c.ws-us51.gitpod.io/workspace/Predicting-medical-cost/src/explore.ipynb#ch0000020vscode-remote?line=3'>4</a>\u001b[0m results\u001b[39m.\u001b[39msummary()\n",
                        "File \u001b[0;32m~/.pyenv/versions/3.8.13/lib/python3.8/site-packages/statsmodels/regression/linear_model.py:890\u001b[0m, in \u001b[0;36mOLS.__init__\u001b[0;34m(self, endog, exog, missing, hasconst, **kwargs)\u001b[0m\n\u001b[1;32m    887\u001b[0m     msg \u001b[39m=\u001b[39m (\u001b[39m\"\u001b[39m\u001b[39mWeights are not supported in OLS and will be ignored\u001b[39m\u001b[39m\"\u001b[39m\n\u001b[1;32m    888\u001b[0m            \u001b[39m\"\u001b[39m\u001b[39mAn exception will be raised in the next version.\u001b[39m\u001b[39m\"\u001b[39m)\n\u001b[1;32m    889\u001b[0m     warnings\u001b[39m.\u001b[39mwarn(msg, ValueWarning)\n\u001b[0;32m--> 890\u001b[0m \u001b[39msuper\u001b[39;49m(OLS, \u001b[39mself\u001b[39;49m)\u001b[39m.\u001b[39;49m\u001b[39m__init__\u001b[39;49m(endog, exog, missing\u001b[39m=\u001b[39;49mmissing,\n\u001b[1;32m    891\u001b[0m                           hasconst\u001b[39m=\u001b[39;49mhasconst, \u001b[39m*\u001b[39;49m\u001b[39m*\u001b[39;49mkwargs)\n\u001b[1;32m    892\u001b[0m \u001b[39mif\u001b[39;00m \u001b[39m\"\u001b[39m\u001b[39mweights\u001b[39m\u001b[39m\"\u001b[39m \u001b[39min\u001b[39;00m \u001b[39mself\u001b[39m\u001b[39m.\u001b[39m_init_keys:\n\u001b[1;32m    893\u001b[0m     \u001b[39mself\u001b[39m\u001b[39m.\u001b[39m_init_keys\u001b[39m.\u001b[39mremove(\u001b[39m\"\u001b[39m\u001b[39mweights\u001b[39m\u001b[39m\"\u001b[39m)\n",
                        "File \u001b[0;32m~/.pyenv/versions/3.8.13/lib/python3.8/site-packages/statsmodels/regression/linear_model.py:717\u001b[0m, in \u001b[0;36mWLS.__init__\u001b[0;34m(self, endog, exog, weights, missing, hasconst, **kwargs)\u001b[0m\n\u001b[1;32m    715\u001b[0m \u001b[39melse\u001b[39;00m:\n\u001b[1;32m    716\u001b[0m     weights \u001b[39m=\u001b[39m weights\u001b[39m.\u001b[39msqueeze()\n\u001b[0;32m--> 717\u001b[0m \u001b[39msuper\u001b[39;49m(WLS, \u001b[39mself\u001b[39;49m)\u001b[39m.\u001b[39;49m\u001b[39m__init__\u001b[39;49m(endog, exog, missing\u001b[39m=\u001b[39;49mmissing,\n\u001b[1;32m    718\u001b[0m                           weights\u001b[39m=\u001b[39;49mweights, hasconst\u001b[39m=\u001b[39;49mhasconst, \u001b[39m*\u001b[39;49m\u001b[39m*\u001b[39;49mkwargs)\n\u001b[1;32m    719\u001b[0m nobs \u001b[39m=\u001b[39m \u001b[39mself\u001b[39m\u001b[39m.\u001b[39mexog\u001b[39m.\u001b[39mshape[\u001b[39m0\u001b[39m]\n\u001b[1;32m    720\u001b[0m weights \u001b[39m=\u001b[39m \u001b[39mself\u001b[39m\u001b[39m.\u001b[39mweights\n",
                        "File \u001b[0;32m~/.pyenv/versions/3.8.13/lib/python3.8/site-packages/statsmodels/regression/linear_model.py:191\u001b[0m, in \u001b[0;36mRegressionModel.__init__\u001b[0;34m(self, endog, exog, **kwargs)\u001b[0m\n\u001b[1;32m    190\u001b[0m \u001b[39mdef\u001b[39;00m \u001b[39m__init__\u001b[39m(\u001b[39mself\u001b[39m, endog, exog, \u001b[39m*\u001b[39m\u001b[39m*\u001b[39mkwargs):\n\u001b[0;32m--> 191\u001b[0m     \u001b[39msuper\u001b[39;49m(RegressionModel, \u001b[39mself\u001b[39;49m)\u001b[39m.\u001b[39;49m\u001b[39m__init__\u001b[39;49m(endog, exog, \u001b[39m*\u001b[39;49m\u001b[39m*\u001b[39;49mkwargs)\n\u001b[1;32m    192\u001b[0m     \u001b[39mself\u001b[39m\u001b[39m.\u001b[39m_data_attr\u001b[39m.\u001b[39mextend([\u001b[39m'\u001b[39m\u001b[39mpinv_wexog\u001b[39m\u001b[39m'\u001b[39m, \u001b[39m'\u001b[39m\u001b[39mwendog\u001b[39m\u001b[39m'\u001b[39m, \u001b[39m'\u001b[39m\u001b[39mwexog\u001b[39m\u001b[39m'\u001b[39m, \u001b[39m'\u001b[39m\u001b[39mweights\u001b[39m\u001b[39m'\u001b[39m])\n",
                        "File \u001b[0;32m~/.pyenv/versions/3.8.13/lib/python3.8/site-packages/statsmodels/base/model.py:267\u001b[0m, in \u001b[0;36mLikelihoodModel.__init__\u001b[0;34m(self, endog, exog, **kwargs)\u001b[0m\n\u001b[1;32m    266\u001b[0m \u001b[39mdef\u001b[39;00m \u001b[39m__init__\u001b[39m(\u001b[39mself\u001b[39m, endog, exog\u001b[39m=\u001b[39m\u001b[39mNone\u001b[39;00m, \u001b[39m*\u001b[39m\u001b[39m*\u001b[39mkwargs):\n\u001b[0;32m--> 267\u001b[0m     \u001b[39msuper\u001b[39;49m()\u001b[39m.\u001b[39;49m\u001b[39m__init__\u001b[39;49m(endog, exog, \u001b[39m*\u001b[39;49m\u001b[39m*\u001b[39;49mkwargs)\n\u001b[1;32m    268\u001b[0m     \u001b[39mself\u001b[39m\u001b[39m.\u001b[39minitialize()\n",
                        "File \u001b[0;32m~/.pyenv/versions/3.8.13/lib/python3.8/site-packages/statsmodels/base/model.py:92\u001b[0m, in \u001b[0;36mModel.__init__\u001b[0;34m(self, endog, exog, **kwargs)\u001b[0m\n\u001b[1;32m     90\u001b[0m missing \u001b[39m=\u001b[39m kwargs\u001b[39m.\u001b[39mpop(\u001b[39m'\u001b[39m\u001b[39mmissing\u001b[39m\u001b[39m'\u001b[39m, \u001b[39m'\u001b[39m\u001b[39mnone\u001b[39m\u001b[39m'\u001b[39m)\n\u001b[1;32m     91\u001b[0m hasconst \u001b[39m=\u001b[39m kwargs\u001b[39m.\u001b[39mpop(\u001b[39m'\u001b[39m\u001b[39mhasconst\u001b[39m\u001b[39m'\u001b[39m, \u001b[39mNone\u001b[39;00m)\n\u001b[0;32m---> 92\u001b[0m \u001b[39mself\u001b[39m\u001b[39m.\u001b[39mdata \u001b[39m=\u001b[39m \u001b[39mself\u001b[39;49m\u001b[39m.\u001b[39;49m_handle_data(endog, exog, missing, hasconst,\n\u001b[1;32m     93\u001b[0m                               \u001b[39m*\u001b[39;49m\u001b[39m*\u001b[39;49mkwargs)\n\u001b[1;32m     94\u001b[0m \u001b[39mself\u001b[39m\u001b[39m.\u001b[39mk_constant \u001b[39m=\u001b[39m \u001b[39mself\u001b[39m\u001b[39m.\u001b[39mdata\u001b[39m.\u001b[39mk_constant\n\u001b[1;32m     95\u001b[0m \u001b[39mself\u001b[39m\u001b[39m.\u001b[39mexog \u001b[39m=\u001b[39m \u001b[39mself\u001b[39m\u001b[39m.\u001b[39mdata\u001b[39m.\u001b[39mexog\n",
                        "File \u001b[0;32m~/.pyenv/versions/3.8.13/lib/python3.8/site-packages/statsmodels/base/model.py:132\u001b[0m, in \u001b[0;36mModel._handle_data\u001b[0;34m(self, endog, exog, missing, hasconst, **kwargs)\u001b[0m\n\u001b[1;32m    131\u001b[0m \u001b[39mdef\u001b[39;00m \u001b[39m_handle_data\u001b[39m(\u001b[39mself\u001b[39m, endog, exog, missing, hasconst, \u001b[39m*\u001b[39m\u001b[39m*\u001b[39mkwargs):\n\u001b[0;32m--> 132\u001b[0m     data \u001b[39m=\u001b[39m handle_data(endog, exog, missing, hasconst, \u001b[39m*\u001b[39;49m\u001b[39m*\u001b[39;49mkwargs)\n\u001b[1;32m    133\u001b[0m     \u001b[39m# kwargs arrays could have changed, easier to just attach here\u001b[39;00m\n\u001b[1;32m    134\u001b[0m     \u001b[39mfor\u001b[39;00m key \u001b[39min\u001b[39;00m kwargs:\n",
                        "File \u001b[0;32m~/.pyenv/versions/3.8.13/lib/python3.8/site-packages/statsmodels/base/data.py:673\u001b[0m, in \u001b[0;36mhandle_data\u001b[0;34m(endog, exog, missing, hasconst, **kwargs)\u001b[0m\n\u001b[1;32m    670\u001b[0m     exog \u001b[39m=\u001b[39m np\u001b[39m.\u001b[39masarray(exog)\n\u001b[1;32m    672\u001b[0m klass \u001b[39m=\u001b[39m handle_data_class_factory(endog, exog)\n\u001b[0;32m--> 673\u001b[0m \u001b[39mreturn\u001b[39;00m klass(endog, exog\u001b[39m=\u001b[39;49mexog, missing\u001b[39m=\u001b[39;49mmissing, hasconst\u001b[39m=\u001b[39;49mhasconst,\n\u001b[1;32m    674\u001b[0m              \u001b[39m*\u001b[39;49m\u001b[39m*\u001b[39;49mkwargs)\n",
                        "File \u001b[0;32m~/.pyenv/versions/3.8.13/lib/python3.8/site-packages/statsmodels/base/data.py:82\u001b[0m, in \u001b[0;36mModelData.__init__\u001b[0;34m(self, endog, exog, missing, hasconst, **kwargs)\u001b[0m\n\u001b[1;32m     80\u001b[0m     \u001b[39mself\u001b[39m\u001b[39m.\u001b[39morig_endog \u001b[39m=\u001b[39m endog\n\u001b[1;32m     81\u001b[0m     \u001b[39mself\u001b[39m\u001b[39m.\u001b[39morig_exog \u001b[39m=\u001b[39m exog\n\u001b[0;32m---> 82\u001b[0m     \u001b[39mself\u001b[39m\u001b[39m.\u001b[39mendog, \u001b[39mself\u001b[39m\u001b[39m.\u001b[39mexog \u001b[39m=\u001b[39m \u001b[39mself\u001b[39;49m\u001b[39m.\u001b[39;49m_convert_endog_exog(endog, exog)\n\u001b[1;32m     84\u001b[0m \u001b[39mself\u001b[39m\u001b[39m.\u001b[39mconst_idx \u001b[39m=\u001b[39m \u001b[39mNone\u001b[39;00m\n\u001b[1;32m     85\u001b[0m \u001b[39mself\u001b[39m\u001b[39m.\u001b[39mk_constant \u001b[39m=\u001b[39m \u001b[39m0\u001b[39m\n",
                        "File \u001b[0;32m~/.pyenv/versions/3.8.13/lib/python3.8/site-packages/statsmodels/base/data.py:507\u001b[0m, in \u001b[0;36mPandasData._convert_endog_exog\u001b[0;34m(self, endog, exog)\u001b[0m\n\u001b[1;32m    505\u001b[0m exog \u001b[39m=\u001b[39m exog \u001b[39mif\u001b[39;00m exog \u001b[39mis\u001b[39;00m \u001b[39mNone\u001b[39;00m \u001b[39melse\u001b[39;00m np\u001b[39m.\u001b[39masarray(exog)\n\u001b[1;32m    506\u001b[0m \u001b[39mif\u001b[39;00m endog\u001b[39m.\u001b[39mdtype \u001b[39m==\u001b[39m \u001b[39mobject\u001b[39m \u001b[39mor\u001b[39;00m exog \u001b[39mis\u001b[39;00m \u001b[39mnot\u001b[39;00m \u001b[39mNone\u001b[39;00m \u001b[39mand\u001b[39;00m exog\u001b[39m.\u001b[39mdtype \u001b[39m==\u001b[39m \u001b[39mobject\u001b[39m:\n\u001b[0;32m--> 507\u001b[0m     \u001b[39mraise\u001b[39;00m \u001b[39mValueError\u001b[39;00m(\u001b[39m\"\u001b[39m\u001b[39mPandas data cast to numpy dtype of object. \u001b[39m\u001b[39m\"\u001b[39m\n\u001b[1;32m    508\u001b[0m                      \u001b[39m\"\u001b[39m\u001b[39mCheck input data with np.asarray(data).\u001b[39m\u001b[39m\"\u001b[39m)\n\u001b[1;32m    509\u001b[0m \u001b[39mreturn\u001b[39;00m \u001b[39msuper\u001b[39m(PandasData, \u001b[39mself\u001b[39m)\u001b[39m.\u001b[39m_convert_endog_exog(endog, exog)\n",
                        "\u001b[0;31mValueError\u001b[0m: Pandas data cast to numpy dtype of object. Check input data with np.asarray(data)."
                    ]
                }
            ],
            "source": [
                "#ahora imprimimos los errores\n",
                "modelo2 = sm.OLS(y_train,x_train)\n",
                "results = modelo2.fit()\n",
                "results.summary()"
            ]
        },
        {
            "cell_type": "code",
            "execution_count": null,
            "metadata": {},
            "outputs": [],
            "source": [
                "xint = sm.add_constant(x_train)"
            ]
        },
        {
            "cell_type": "code",
            "execution_count": 45,
            "metadata": {},
            "outputs": [
                {
                    "ename": "NameError",
                    "evalue": "name 'modelo' is not defined",
                    "output_type": "error",
                    "traceback": [
                        "\u001b[0;31m---------------------------------------------------------------------------\u001b[0m",
                        "\u001b[0;31mNameError\u001b[0m                                 Traceback (most recent call last)",
                        "\u001b[1;32m/workspace/Predicting-medical-cost/src/explore.ipynb Cell 20'\u001b[0m in \u001b[0;36m<cell line: 3>\u001b[0;34m()\u001b[0m\n\u001b[1;32m      <a href='vscode-notebook-cell://andreajit-predictingmed-fravs1evp9c.ws-us51.gitpod.io/workspace/Predicting-medical-cost/src/explore.ipynb#ch0000022vscode-remote?line=0'>1</a>\u001b[0m \u001b[39m#ahora hacemos predicciones con el modelo q tengamos ganas\u001b[39;00m\n\u001b[1;32m      <a href='vscode-notebook-cell://andreajit-predictingmed-fravs1evp9c.ws-us51.gitpod.io/workspace/Predicting-medical-cost/src/explore.ipynb#ch0000022vscode-remote?line=1'>2</a>\u001b[0m \u001b[39m#modelo = regresion_lineal, yo use este nombre de variable no segui a la clase y se me rompio todo, revisar con la libreta q pasen\u001b[39;00m\n\u001b[0;32m----> <a href='vscode-notebook-cell://andreajit-predictingmed-fravs1evp9c.ws-us51.gitpod.io/workspace/Predicting-medical-cost/src/explore.ipynb#ch0000022vscode-remote?line=2'>3</a>\u001b[0m y_pred \u001b[39m=\u001b[39m modelo\u001b[39m.\u001b[39mpredict(x_test)\n\u001b[1;32m      <a href='vscode-notebook-cell://andreajit-predictingmed-fravs1evp9c.ws-us51.gitpod.io/workspace/Predicting-medical-cost/src/explore.ipynb#ch0000022vscode-remote?line=3'>4</a>\u001b[0m \u001b[39mprint\u001b[39m(\u001b[39m'\u001b[39m\u001b[39mMAE:\u001b[39m\u001b[39m'\u001b[39m,metrics\u001b[39m.\u001b[39mmean_absolute_error(y_test, y_pred))\n\u001b[1;32m      <a href='vscode-notebook-cell://andreajit-predictingmed-fravs1evp9c.ws-us51.gitpod.io/workspace/Predicting-medical-cost/src/explore.ipynb#ch0000022vscode-remote?line=4'>5</a>\u001b[0m \u001b[39mprint\u001b[39m(\u001b[39m'\u001b[39m\u001b[39mMSE:\u001b[39m\u001b[39m'\u001b[39m,metrics\u001b[39m.\u001b[39mmean_squared_error(y_test, y_pred))\n",
                        "\u001b[0;31mNameError\u001b[0m: name 'modelo' is not defined"
                    ]
                }
            ],
            "source": [
                "#ahora hacemos predicciones con el modelo q tengamos ganas\n",
                "#modelo = regresion_lineal, yo use este nombre de variable no segui a la clase y se me rompio todo, revisar con la libreta q pasen\n",
                "y_pred = modelo.predict(x_test)\n",
                "print('MAE:',metrics.mean_absolute_error(y_test, y_pred))\n",
                "print('MSE:',metrics.mean_squared_error(y_test, y_pred))\n",
                "print('MRSE:',np.sqrt(metrics.mean_squared_error(y_test, y_pred)))\n",
                "\n",
                "#print('RMSE', metrics.mean_squared_error(y_test, y_pred,squared=False)) otra forma de calcular"
            ]
        },
        {
            "cell_type": "code",
            "execution_count": null,
            "metadata": {},
            "outputs": [],
            "source": [
                "#hora vemos si con algun hierparametro podemos corregir esto\n",
                "modelo3 = sm.OLS(y_train. x_train)\n",
                "#tratar de ubicar la libreta del compra porq me perdi\n",
                "\n",
                "#el mejor modelo es el q de menos error !!!"
            ]
        },
        {
            "cell_type": "code",
            "execution_count": null,
            "metadata": {},
            "outputs": [],
            "source": [
                "#aca va un viaje de cosas mirar lo q hicieron!"
            ]
        },
        {
            "cell_type": "code",
            "execution_count": null,
            "metadata": {},
            "outputs": [],
            "source": [
                "poly_feature = PolynomialFeatures(degree=2) #transporfmo las vars a polinomicas\n",
                "x_poly_train = poly_feature.fit_transform(x_train) #van todas al cuadrado, mas la interaccion, va a ver muchos coeficiente\n",
                "x_poly_test = poly_feature.fit_transform(x_test)\n",
                "\n",
                "#model es la regresion lineal\n",
                "modelo5 = modelo.fit(x_poly_train,y_train)\n",
                "\n"
            ]
        },
        {
            "cell_type": "code",
            "execution_count": null,
            "metadata": {},
            "outputs": [],
            "source": [
                "y_pred_poly = modelo5.predict(x_poly_test)\n",
                "#meto los prints de MAE MSE RMSE"
            ]
        },
        {
            "cell_type": "code",
            "execution_count": null,
            "metadata": {},
            "outputs": [],
            "source": [
                "#arreglar y entregar !"
            ]
        }
    ],
    "metadata": {
        "kernelspec": {
            "display_name": "Python 3.10.6 64-bit",
            "language": "python",
            "name": "python3"
        },
        "language_info": {
            "codemirror_mode": {
                "name": "ipython",
                "version": 3
            },
            "file_extension": ".py",
            "mimetype": "text/x-python",
            "name": "python",
            "nbconvert_exporter": "python",
            "pygments_lexer": "ipython3",
            "version": "3.10.6"
        },
        "orig_nbformat": 4,
        "vscode": {
            "interpreter": {
                "hash": "e7370f93d1d0cde622a1f8e1c04877d8463912d04d973331ad4851f04de6915a"
            }
        }
    },
    "nbformat": 4,
    "nbformat_minor": 2
}
